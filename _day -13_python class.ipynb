{
 "cells": [
  {
   "cell_type": "code",
   "execution_count": null,
   "id": "9fc8c6fc",
   "metadata": {},
   "outputs": [],
   "source": [
    "Introduction to while loop:"
   ]
  },
  {
   "cell_type": "code",
   "execution_count": null,
   "id": "aae36b53",
   "metadata": {},
   "outputs": [],
   "source": []
  },
  {
   "cell_type": "code",
   "execution_count": 1,
   "id": "f3f3ee4f",
   "metadata": {},
   "outputs": [
    {
     "name": "stdout",
     "output_type": "stream",
     "text": [
      "1\n",
      "2\n",
      "3\n",
      "4\n",
      "5\n"
     ]
    }
   ],
   "source": [
    "current_number = 1\n",
    "\n",
    "while current_number <= 5:\n",
    "    print(current_number)\n",
    "    current_number +=1"
   ]
  },
  {
   "cell_type": "code",
   "execution_count": null,
   "id": "261d6630",
   "metadata": {},
   "outputs": [],
   "source": []
  },
  {
   "cell_type": "code",
   "execution_count": null,
   "id": "49fd5cb1",
   "metadata": {},
   "outputs": [],
   "source": [
    "user  accepted input :"
   ]
  },
  {
   "cell_type": "code",
   "execution_count": null,
   "id": "e8dffe8c",
   "metadata": {},
   "outputs": [],
   "source": [
    "#req : Letting the user choose when to quit"
   ]
  },
  {
   "cell_type": "code",
   "execution_count": null,
   "id": "8341902f",
   "metadata": {},
   "outputs": [],
   "source": []
  },
  {
   "cell_type": "code",
   "execution_count": 4,
   "id": "1fac372c",
   "metadata": {},
   "outputs": [],
   "source": [
    "prompt = \"\\nPlease enter the name of the city you have visited:\"\n",
    "prompt += \"\\nEnter quit when you are finished\""
   ]
  },
  {
   "cell_type": "code",
   "execution_count": null,
   "id": "cef23ef3",
   "metadata": {},
   "outputs": [],
   "source": []
  },
  {
   "cell_type": "code",
   "execution_count": 5,
   "id": "d6be51c2",
   "metadata": {},
   "outputs": [
    {
     "name": "stdout",
     "output_type": "stream",
     "text": [
      "\n",
      "Please enter the name of the city you have visited:\n",
      "Enter quit when you are finishedhello everyone\n",
      "hello everyone\n",
      "\n",
      "Please enter the name of the city you have visited:\n",
      "Enter quit when you are finished123\n",
      "123\n",
      "\n",
      "Please enter the name of the city you have visited:\n",
      "Enter quit when you are finishedgreetings to you\n",
      "greetings to you\n",
      "\n",
      "Please enter the name of the city you have visited:\n",
      "Enter quit when you are finishedhiiiiii\n",
      "hiiiiii\n",
      "\n",
      "Please enter the name of the city you have visited:\n",
      "Enter quit when you are finishedquit\n",
      "quit\n"
     ]
    }
   ],
   "source": [
    "message = \"\"\n",
    "while message != 'quit':\n",
    "    message = input(prompt)\n",
    "    print(message)"
   ]
  },
  {
   "cell_type": "code",
   "execution_count": null,
   "id": "95b15162",
   "metadata": {},
   "outputs": [],
   "source": []
  },
  {
   "cell_type": "code",
   "execution_count": null,
   "id": "dd6eb98d",
   "metadata": {},
   "outputs": [],
   "source": [
    "# creating  the flags:"
   ]
  },
  {
   "cell_type": "code",
   "execution_count": 3,
   "id": "a817b946",
   "metadata": {},
   "outputs": [],
   "source": [
    "prompt = \"\\nPlease enter the name o the city you have visited:\"\n",
    "prompt += \"\\nEnter quit when you are finished\""
   ]
  },
  {
   "cell_type": "code",
   "execution_count": 4,
   "id": "d6a915e5",
   "metadata": {},
   "outputs": [
    {
     "name": "stdout",
     "output_type": "stream",
     "text": [
      "\n",
      "Please enter the name o the city you have visited:\n",
      "Enter quit when you are finishedBangalore\n",
      "I'd love to go to Bangalore!\n",
      "\n",
      "Please enter the name o the city you have visited:\n",
      "Enter quit when you are finishedHyderabad\n",
      "I'd love to go to Hyderabad!\n",
      "\n",
      "Please enter the name o the city you have visited:\n",
      "Enter quit when you are finishedmumbai\n",
      "I'd love to go to Mumbai!\n",
      "\n",
      "Please enter the name o the city you have visited:\n",
      "Enter quit when you are finisheddelhi\n",
      "I'd love to go to Delhi!\n",
      "\n",
      "Please enter the name o the city you have visited:\n",
      "Enter quit when you are finishedquit\n"
     ]
    }
   ],
   "source": [
    "\n",
    "while True:\n",
    "    city = input(prompt)\n",
    "    \n",
    "    if city == 'quit':\n",
    "        break\n",
    "    else:\n",
    "        print(f\"I'd love to go to {city.title()}!\")"
   ]
  },
  {
   "cell_type": "code",
   "execution_count": null,
   "id": "ebe5c3f7",
   "metadata": {},
   "outputs": [],
   "source": []
  },
  {
   "cell_type": "code",
   "execution_count": null,
   "id": "f72353fd",
   "metadata": {},
   "outputs": [],
   "source": [
    "class :---------> it is a high level blueprint of the program\n",
    "attributes ----->variables"
   ]
  },
  {
   "cell_type": "code",
   "execution_count": null,
   "id": "e42602d9",
   "metadata": {},
   "outputs": [],
   "source": [
    "methods------>functions======> def"
   ]
  },
  {
   "cell_type": "code",
   "execution_count": null,
   "id": "f65a77bb",
   "metadata": {},
   "outputs": [],
   "source": [
    "self----> it is a temp placeholder for an object"
   ]
  },
  {
   "cell_type": "code",
   "execution_count": null,
   "id": "dc2492c3",
   "metadata": {},
   "outputs": [],
   "source": []
  },
  {
   "cell_type": "code",
   "execution_count": null,
   "id": "f8523075",
   "metadata": {},
   "outputs": [],
   "source": [
    "class ===>(OOPS)"
   ]
  },
  {
   "cell_type": "code",
   "execution_count": null,
   "id": "6b4e759f",
   "metadata": {},
   "outputs": [],
   "source": [
    "File handling in python :\n",
    "\n",
    "exceptional handling : "
   ]
  },
  {
   "cell_type": "code",
   "execution_count": null,
   "id": "c17c01fb",
   "metadata": {},
   "outputs": [],
   "source": []
  },
  {
   "cell_type": "code",
   "execution_count": null,
   "id": "cacfdfd3",
   "metadata": {},
   "outputs": [],
   "source": []
  },
  {
   "cell_type": "code",
   "execution_count": null,
   "id": "d94f97e1",
   "metadata": {},
   "outputs": [],
   "source": []
  },
  {
   "cell_type": "code",
   "execution_count": null,
   "id": "359e892a",
   "metadata": {},
   "outputs": [],
   "source": []
  }
 ],
 "metadata": {
  "kernelspec": {
   "display_name": "Python 3 (ipykernel)",
   "language": "python",
   "name": "python3"
  },
  "language_info": {
   "codemirror_mode": {
    "name": "ipython",
    "version": 3
   },
   "file_extension": ".py",
   "mimetype": "text/x-python",
   "name": "python",
   "nbconvert_exporter": "python",
   "pygments_lexer": "ipython3",
   "version": "3.11.3"
  }
 },
 "nbformat": 4,
 "nbformat_minor": 5
}
